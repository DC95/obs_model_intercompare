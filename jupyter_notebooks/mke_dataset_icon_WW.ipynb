{
 "cells": [
  {
   "cell_type": "code",
   "execution_count": 94,
   "id": "7dfc0212-aa56-4ffa-b389-3468eaee6d4d",
   "metadata": {
    "tags": []
   },
   "outputs": [],
   "source": [
    "import xarray as xr\n",
    "import numpy as np\n",
    "import glob\n",
    "import os\n",
    "import h5py\n",
    "import matplotlib.pyplot as plt\n",
    "import numpy as np\n",
    "import matplotlib.pyplot as plt\n",
    "import cartopy.crs as ccrs\n",
    "import cartopy.feature as cfeature\n",
    "import warnings\n",
    "warnings.filterwarnings(\"ignore\")"
   ]
  },
  {
   "cell_type": "markdown",
   "id": "f09a78e1-59b3-4a23-83f8-aebe1db7354c",
   "metadata": {},
   "source": [
    "1. preparing random crop dataset\n",
    "2. mean and std of different data chunks\n",
    "3. NetCDF to HdF5\n",
    "4. FFT \n",
    "5. Region specific and all data map plots"
   ]
  },
  {
   "cell_type": "code",
   "execution_count": 97,
   "id": "5a19ff45-5c0d-40f9-a209-a230ec572f49",
   "metadata": {
    "tags": []
   },
   "outputs": [],
   "source": [
    "nc_file_loc = '/p/project1/exaww/chatterjee1/dataset/iconeu/'\n",
    "output_file = \"msgobs_108_randcrops_icon.nc\"\n",
    "\n",
    "months = {\n",
    "    4:'04/',\n",
    "    5:'05/',\n",
    "    6:'06/',\n",
    "    7:'07/',\n",
    "    8:'08/',\n",
    "    9:'09/',\n",
    "}\n",
    "\n",
    "log_file = nc_file_loc + \"processed_files_log.txt\"\n",
    "nan_crop_file = nc_file_loc + \"nan_files_log.txt\""
   ]
  },
  {
   "cell_type": "code",
   "execution_count": 102,
   "id": "f00bdf76-a8b9-4ceb-9b5c-e7e2edb337d3",
   "metadata": {
    "tags": []
   },
   "outputs": [],
   "source": [
    "sample_counter = 0  # Initialize a counter for unique sample naming\n",
    "\n",
    "all_crops = []  # List to store all crops\n",
    "all_lats = []   # List to store all latitude coordinates\n",
    "all_lons = []   # List to store all longitude coordinates\n",
    "all_times = []  # List to store all timestamps\n",
    "\n",
    "first_write = True  # Flag to check if it's the first time writing to the file\n",
    "\n",
    "# Iterate over each month\n",
    "for _, key in enumerate(months.keys()):\n",
    "    month_loc = nc_file_loc + months[key]\n",
    "    day_folders = sorted(glob.glob(month_loc + '*/'))  # Finds all day subfolders within the month folder\n",
    "\n",
    "    # Iterate over each day folder within the current month\n",
    "    for day_folder in day_folders:\n",
    "        nc_filepattern = \"iefrf*.nc\"\n",
    "        nc_files = sorted(glob.glob(day_folder + nc_filepattern)) # '/p/project1/exaww/chatterjee1/dataset/iconeu/09/01/'\n",
    "\n",
    "        for i, file in enumerate(nc_files):\n",
    "\n",
    "            # Log the name of the current file\n",
    "            with open(log_file, 'a') as log:\n",
    "                log.write(f\"{file}\\n\")\n",
    "\n",
    "            data = xr.open_dataset(file)\n",
    "            date = data.time.dt.strftime('%Y-%m-%d').values[0]\n",
    "            timestamp = data.time.dt.strftime('%H:%M:%S').values[0]\n",
    "            \n",
    "\n",
    "            lat = data['lat'][288:377].values  \n",
    "            lon = data['lon'][472:816].values    \n",
    "            bt_data = data['SYNMSG_BT_CL_IR10.8'][0,288:377,472:816]\n",
    "\n",
    "            y_dim, x_dim = bt_data.shape\n",
    "\n",
    "            # Divide x dimension into 4 segments for spreading the crops\n",
    "            x_segments = np.linspace(0, x_dim - 78, 5, dtype=int)\n",
    "\n",
    "            for j in range(4):\n",
    "                # Ensure crops are more spread in the x direction by choosing a segment\n",
    "                start_y = np.random.randint(0, y_dim - 78)\n",
    "                start_x = np.random.randint(x_segments[j], x_segments[j + 1])\n",
    "\n",
    "                # Crop the data\n",
    "                crop = bt_data[start_y:start_y + 78, start_x:start_x + 78]\n",
    "\n",
    "                # Skip this crop if it contains any NaN values\n",
    "                if np.isnan(crop).any():\n",
    "                    with open(nan_crop_file, 'a') as log:\n",
    "                        log.write(f\"{file} and crop no {j}\\n\")\n",
    "                    continue\n",
    "\n",
    "                # Store the crop and the corresponding coordinates\n",
    "                all_crops.append(crop)\n",
    "                all_lats.append(lat[start_y:start_y + 78])\n",
    "                all_lons.append(lon[start_x:start_x + 78])\n",
    "                all_times.append(timestamp)\n",
    "\n",
    "                # Increment the sample counter\n",
    "                sample_counter += 1\n",
    "\n",
    "                all_crops_np = np.array(all_crops)\n",
    "                all_lats_np = np.array(all_lats)\n",
    "                all_lons_np = np.array(all_lons)\n",
    "                all_times_np = np.array(all_times)\n",
    "\n",
    "# Create a dataset with the combined data\n",
    "ds = xr.Dataset(\n",
    "    {\n",
    "        \"model_108\": ([\"sample\", \"y\", \"x\"], all_crops_np)  # Data variable\n",
    "    },\n",
    "    coords={\n",
    "        \"sample\": ([\"sample\"], np.arange(len(all_crops_np))),  # Sample numbers\n",
    "        \"lat\": ([\"sample\", \"y\"], all_lats_np),\n",
    "        \"lon\": ([\"sample\", \"x\"], all_lons_np),\n",
    "        \"time\": ([\"sample\"], all_times_np)\n",
    "    }\n",
    ")\n",
    "\n",
    "# Write or append to the NetCDF file\n",
    "if first_write:\n",
    "    ds.to_netcdf(output_file, mode='w')\n",
    "    first_write = False\n"
   ]
  },
  {
   "cell_type": "code",
   "execution_count": 103,
   "id": "0feceac8-aeb3-49fe-a712-5f3a46b510d0",
   "metadata": {
    "tags": []
   },
   "outputs": [
    {
     "data": {
      "text/plain": [
       "18300"
      ]
     },
     "execution_count": 103,
     "metadata": {},
     "output_type": "execute_result"
    }
   ],
   "source": [
    "sample_counter"
   ]
  },
  {
   "cell_type": "code",
   "execution_count": 36,
   "id": "b1a6db0e-3fbf-4e00-95b7-de630d55a320",
   "metadata": {
    "tags": []
   },
   "outputs": [
    {
     "data": {
      "text/plain": [
       "'/p/project1/exaww/chatterjee1/dataset/iconeu/09/30/iefrf*.nc'"
      ]
     },
     "execution_count": 36,
     "metadata": {},
     "output_type": "execute_result"
    }
   ],
   "source": [
    "day_folder + nc_filepattern"
   ]
  },
  {
   "cell_type": "code",
   "execution_count": 39,
   "id": "f64da487-80a5-4880-a51f-00efec4a1161",
   "metadata": {
    "tags": []
   },
   "outputs": [
    {
     "data": {
      "text/plain": [
       "'/p/project1/exaww/chatterjee1/dataset/iconeu/09/01/'"
      ]
     },
     "execution_count": 39,
     "metadata": {},
     "output_type": "execute_result"
    }
   ],
   "source": [
    "day_folders[0]"
   ]
  },
  {
   "cell_type": "code",
   "execution_count": 101,
   "id": "b52e6f0c-515f-4066-a9de-209ec5cd3dd3",
   "metadata": {
    "tags": []
   },
   "outputs": [
    {
     "data": {
      "text/plain": [
       "['/p/project1/exaww/chatterjee1/dataset/iconeu/09/30/iefrf00000000.nc',\n",
       " '/p/project1/exaww/chatterjee1/dataset/iconeu/09/30/iefrf00010000.nc',\n",
       " '/p/project1/exaww/chatterjee1/dataset/iconeu/09/30/iefrf00020000.nc',\n",
       " '/p/project1/exaww/chatterjee1/dataset/iconeu/09/30/iefrf00030000.nc',\n",
       " '/p/project1/exaww/chatterjee1/dataset/iconeu/09/30/iefrf00040000.nc',\n",
       " '/p/project1/exaww/chatterjee1/dataset/iconeu/09/30/iefrf00050000.nc',\n",
       " '/p/project1/exaww/chatterjee1/dataset/iconeu/09/30/iefrf00060000.nc',\n",
       " '/p/project1/exaww/chatterjee1/dataset/iconeu/09/30/iefrf00070000.nc',\n",
       " '/p/project1/exaww/chatterjee1/dataset/iconeu/09/30/iefrf00080000.nc',\n",
       " '/p/project1/exaww/chatterjee1/dataset/iconeu/09/30/iefrf00090000.nc',\n",
       " '/p/project1/exaww/chatterjee1/dataset/iconeu/09/30/iefrf00100000.nc',\n",
       " '/p/project1/exaww/chatterjee1/dataset/iconeu/09/30/iefrf00110000.nc',\n",
       " '/p/project1/exaww/chatterjee1/dataset/iconeu/09/30/iefrf00120000.nc',\n",
       " '/p/project1/exaww/chatterjee1/dataset/iconeu/09/30/iefrf00130000.nc',\n",
       " '/p/project1/exaww/chatterjee1/dataset/iconeu/09/30/iefrf00140000.nc',\n",
       " '/p/project1/exaww/chatterjee1/dataset/iconeu/09/30/iefrf00150000.nc',\n",
       " '/p/project1/exaww/chatterjee1/dataset/iconeu/09/30/iefrf00160000.nc',\n",
       " '/p/project1/exaww/chatterjee1/dataset/iconeu/09/30/iefrf00170000.nc',\n",
       " '/p/project1/exaww/chatterjee1/dataset/iconeu/09/30/iefrf00180000.nc',\n",
       " '/p/project1/exaww/chatterjee1/dataset/iconeu/09/30/iefrf00190000.nc',\n",
       " '/p/project1/exaww/chatterjee1/dataset/iconeu/09/30/iefrf00200000.nc',\n",
       " '/p/project1/exaww/chatterjee1/dataset/iconeu/09/30/iefrf00210000.nc',\n",
       " '/p/project1/exaww/chatterjee1/dataset/iconeu/09/30/iefrf00220000.nc',\n",
       " '/p/project1/exaww/chatterjee1/dataset/iconeu/09/30/iefrf00230000.nc',\n",
       " '/p/project1/exaww/chatterjee1/dataset/iconeu/09/30/iefrf01000000.nc']"
      ]
     },
     "execution_count": 101,
     "metadata": {},
     "output_type": "execute_result"
    }
   ],
   "source": [
    "nc_files"
   ]
  },
  {
   "cell_type": "code",
   "execution_count": 5,
   "id": "cb7fded3-865c-4283-9dcd-8db9b6cc2800",
   "metadata": {
    "tags": []
   },
   "outputs": [
    {
     "data": {
      "text/plain": [
       "'/p/project1/exaww/chatterjee1/dataset/iconeu/09/'"
      ]
     },
     "execution_count": 5,
     "metadata": {},
     "output_type": "execute_result"
    }
   ],
   "source": [
    "loc"
   ]
  },
  {
   "cell_type": "code",
   "execution_count": 110,
   "id": "f3683577-d234-4c70-b7ce-beb4beaf5aca",
   "metadata": {
    "tags": []
   },
   "outputs": [
    {
     "data": {
      "text/html": [
       "<div><svg style=\"position: absolute; width: 0; height: 0; overflow: hidden\">\n",
       "<defs>\n",
       "<symbol id=\"icon-database\" viewBox=\"0 0 32 32\">\n",
       "<path d=\"M16 0c-8.837 0-16 2.239-16 5v4c0 2.761 7.163 5 16 5s16-2.239 16-5v-4c0-2.761-7.163-5-16-5z\"></path>\n",
       "<path d=\"M16 17c-8.837 0-16-2.239-16-5v6c0 2.761 7.163 5 16 5s16-2.239 16-5v-6c0 2.761-7.163 5-16 5z\"></path>\n",
       "<path d=\"M16 26c-8.837 0-16-2.239-16-5v6c0 2.761 7.163 5 16 5s16-2.239 16-5v-6c0 2.761-7.163 5-16 5z\"></path>\n",
       "</symbol>\n",
       "<symbol id=\"icon-file-text2\" viewBox=\"0 0 32 32\">\n",
       "<path d=\"M28.681 7.159c-0.694-0.947-1.662-2.053-2.724-3.116s-2.169-2.030-3.116-2.724c-1.612-1.182-2.393-1.319-2.841-1.319h-15.5c-1.378 0-2.5 1.121-2.5 2.5v27c0 1.378 1.122 2.5 2.5 2.5h23c1.378 0 2.5-1.122 2.5-2.5v-19.5c0-0.448-0.137-1.23-1.319-2.841zM24.543 5.457c0.959 0.959 1.712 1.825 2.268 2.543h-4.811v-4.811c0.718 0.556 1.584 1.309 2.543 2.268zM28 29.5c0 0.271-0.229 0.5-0.5 0.5h-23c-0.271 0-0.5-0.229-0.5-0.5v-27c0-0.271 0.229-0.5 0.5-0.5 0 0 15.499-0 15.5 0v7c0 0.552 0.448 1 1 1h7v19.5z\"></path>\n",
       "<path d=\"M23 26h-14c-0.552 0-1-0.448-1-1s0.448-1 1-1h14c0.552 0 1 0.448 1 1s-0.448 1-1 1z\"></path>\n",
       "<path d=\"M23 22h-14c-0.552 0-1-0.448-1-1s0.448-1 1-1h14c0.552 0 1 0.448 1 1s-0.448 1-1 1z\"></path>\n",
       "<path d=\"M23 18h-14c-0.552 0-1-0.448-1-1s0.448-1 1-1h14c0.552 0 1 0.448 1 1s-0.448 1-1 1z\"></path>\n",
       "</symbol>\n",
       "</defs>\n",
       "</svg>\n",
       "<style>/* CSS stylesheet for displaying xarray objects in jupyterlab.\n",
       " *\n",
       " */\n",
       "\n",
       ":root {\n",
       "  --xr-font-color0: var(--jp-content-font-color0, rgba(0, 0, 0, 1));\n",
       "  --xr-font-color2: var(--jp-content-font-color2, rgba(0, 0, 0, 0.54));\n",
       "  --xr-font-color3: var(--jp-content-font-color3, rgba(0, 0, 0, 0.38));\n",
       "  --xr-border-color: var(--jp-border-color2, #e0e0e0);\n",
       "  --xr-disabled-color: var(--jp-layout-color3, #bdbdbd);\n",
       "  --xr-background-color: var(--jp-layout-color0, white);\n",
       "  --xr-background-color-row-even: var(--jp-layout-color1, white);\n",
       "  --xr-background-color-row-odd: var(--jp-layout-color2, #eeeeee);\n",
       "}\n",
       "\n",
       "html[theme=dark],\n",
       "body[data-theme=dark],\n",
       "body.vscode-dark {\n",
       "  --xr-font-color0: rgba(255, 255, 255, 1);\n",
       "  --xr-font-color2: rgba(255, 255, 255, 0.54);\n",
       "  --xr-font-color3: rgba(255, 255, 255, 0.38);\n",
       "  --xr-border-color: #1F1F1F;\n",
       "  --xr-disabled-color: #515151;\n",
       "  --xr-background-color: #111111;\n",
       "  --xr-background-color-row-even: #111111;\n",
       "  --xr-background-color-row-odd: #313131;\n",
       "}\n",
       "\n",
       ".xr-wrap {\n",
       "  display: block !important;\n",
       "  min-width: 300px;\n",
       "  max-width: 700px;\n",
       "}\n",
       "\n",
       ".xr-text-repr-fallback {\n",
       "  /* fallback to plain text repr when CSS is not injected (untrusted notebook) */\n",
       "  display: none;\n",
       "}\n",
       "\n",
       ".xr-header {\n",
       "  padding-top: 6px;\n",
       "  padding-bottom: 6px;\n",
       "  margin-bottom: 4px;\n",
       "  border-bottom: solid 1px var(--xr-border-color);\n",
       "}\n",
       "\n",
       ".xr-header > div,\n",
       ".xr-header > ul {\n",
       "  display: inline;\n",
       "  margin-top: 0;\n",
       "  margin-bottom: 0;\n",
       "}\n",
       "\n",
       ".xr-obj-type,\n",
       ".xr-array-name {\n",
       "  margin-left: 2px;\n",
       "  margin-right: 10px;\n",
       "}\n",
       "\n",
       ".xr-obj-type {\n",
       "  color: var(--xr-font-color2);\n",
       "}\n",
       "\n",
       ".xr-sections {\n",
       "  padding-left: 0 !important;\n",
       "  display: grid;\n",
       "  grid-template-columns: 150px auto auto 1fr 20px 20px;\n",
       "}\n",
       "\n",
       ".xr-section-item {\n",
       "  display: contents;\n",
       "}\n",
       "\n",
       ".xr-section-item input {\n",
       "  display: none;\n",
       "}\n",
       "\n",
       ".xr-section-item input + label {\n",
       "  color: var(--xr-disabled-color);\n",
       "}\n",
       "\n",
       ".xr-section-item input:enabled + label {\n",
       "  cursor: pointer;\n",
       "  color: var(--xr-font-color2);\n",
       "}\n",
       "\n",
       ".xr-section-item input:enabled + label:hover {\n",
       "  color: var(--xr-font-color0);\n",
       "}\n",
       "\n",
       ".xr-section-summary {\n",
       "  grid-column: 1;\n",
       "  color: var(--xr-font-color2);\n",
       "  font-weight: 500;\n",
       "}\n",
       "\n",
       ".xr-section-summary > span {\n",
       "  display: inline-block;\n",
       "  padding-left: 0.5em;\n",
       "}\n",
       "\n",
       ".xr-section-summary-in:disabled + label {\n",
       "  color: var(--xr-font-color2);\n",
       "}\n",
       "\n",
       ".xr-section-summary-in + label:before {\n",
       "  display: inline-block;\n",
       "  content: '►';\n",
       "  font-size: 11px;\n",
       "  width: 15px;\n",
       "  text-align: center;\n",
       "}\n",
       "\n",
       ".xr-section-summary-in:disabled + label:before {\n",
       "  color: var(--xr-disabled-color);\n",
       "}\n",
       "\n",
       ".xr-section-summary-in:checked + label:before {\n",
       "  content: '▼';\n",
       "}\n",
       "\n",
       ".xr-section-summary-in:checked + label > span {\n",
       "  display: none;\n",
       "}\n",
       "\n",
       ".xr-section-summary,\n",
       ".xr-section-inline-details {\n",
       "  padding-top: 4px;\n",
       "  padding-bottom: 4px;\n",
       "}\n",
       "\n",
       ".xr-section-inline-details {\n",
       "  grid-column: 2 / -1;\n",
       "}\n",
       "\n",
       ".xr-section-details {\n",
       "  display: none;\n",
       "  grid-column: 1 / -1;\n",
       "  margin-bottom: 5px;\n",
       "}\n",
       "\n",
       ".xr-section-summary-in:checked ~ .xr-section-details {\n",
       "  display: contents;\n",
       "}\n",
       "\n",
       ".xr-array-wrap {\n",
       "  grid-column: 1 / -1;\n",
       "  display: grid;\n",
       "  grid-template-columns: 20px auto;\n",
       "}\n",
       "\n",
       ".xr-array-wrap > label {\n",
       "  grid-column: 1;\n",
       "  vertical-align: top;\n",
       "}\n",
       "\n",
       ".xr-preview {\n",
       "  color: var(--xr-font-color3);\n",
       "}\n",
       "\n",
       ".xr-array-preview,\n",
       ".xr-array-data {\n",
       "  padding: 0 5px !important;\n",
       "  grid-column: 2;\n",
       "}\n",
       "\n",
       ".xr-array-data,\n",
       ".xr-array-in:checked ~ .xr-array-preview {\n",
       "  display: none;\n",
       "}\n",
       "\n",
       ".xr-array-in:checked ~ .xr-array-data,\n",
       ".xr-array-preview {\n",
       "  display: inline-block;\n",
       "}\n",
       "\n",
       ".xr-dim-list {\n",
       "  display: inline-block !important;\n",
       "  list-style: none;\n",
       "  padding: 0 !important;\n",
       "  margin: 0;\n",
       "}\n",
       "\n",
       ".xr-dim-list li {\n",
       "  display: inline-block;\n",
       "  padding: 0;\n",
       "  margin: 0;\n",
       "}\n",
       "\n",
       ".xr-dim-list:before {\n",
       "  content: '(';\n",
       "}\n",
       "\n",
       ".xr-dim-list:after {\n",
       "  content: ')';\n",
       "}\n",
       "\n",
       ".xr-dim-list li:not(:last-child):after {\n",
       "  content: ',';\n",
       "  padding-right: 5px;\n",
       "}\n",
       "\n",
       ".xr-has-index {\n",
       "  font-weight: bold;\n",
       "}\n",
       "\n",
       ".xr-var-list,\n",
       ".xr-var-item {\n",
       "  display: contents;\n",
       "}\n",
       "\n",
       ".xr-var-item > div,\n",
       ".xr-var-item label,\n",
       ".xr-var-item > .xr-var-name span {\n",
       "  background-color: var(--xr-background-color-row-even);\n",
       "  margin-bottom: 0;\n",
       "}\n",
       "\n",
       ".xr-var-item > .xr-var-name:hover span {\n",
       "  padding-right: 5px;\n",
       "}\n",
       "\n",
       ".xr-var-list > li:nth-child(odd) > div,\n",
       ".xr-var-list > li:nth-child(odd) > label,\n",
       ".xr-var-list > li:nth-child(odd) > .xr-var-name span {\n",
       "  background-color: var(--xr-background-color-row-odd);\n",
       "}\n",
       "\n",
       ".xr-var-name {\n",
       "  grid-column: 1;\n",
       "}\n",
       "\n",
       ".xr-var-dims {\n",
       "  grid-column: 2;\n",
       "}\n",
       "\n",
       ".xr-var-dtype {\n",
       "  grid-column: 3;\n",
       "  text-align: right;\n",
       "  color: var(--xr-font-color2);\n",
       "}\n",
       "\n",
       ".xr-var-preview {\n",
       "  grid-column: 4;\n",
       "}\n",
       "\n",
       ".xr-var-name,\n",
       ".xr-var-dims,\n",
       ".xr-var-dtype,\n",
       ".xr-preview,\n",
       ".xr-attrs dt {\n",
       "  white-space: nowrap;\n",
       "  overflow: hidden;\n",
       "  text-overflow: ellipsis;\n",
       "  padding-right: 10px;\n",
       "}\n",
       "\n",
       ".xr-var-name:hover,\n",
       ".xr-var-dims:hover,\n",
       ".xr-var-dtype:hover,\n",
       ".xr-attrs dt:hover {\n",
       "  overflow: visible;\n",
       "  width: auto;\n",
       "  z-index: 1;\n",
       "}\n",
       "\n",
       ".xr-var-attrs,\n",
       ".xr-var-data {\n",
       "  display: none;\n",
       "  background-color: var(--xr-background-color) !important;\n",
       "  padding-bottom: 5px !important;\n",
       "}\n",
       "\n",
       ".xr-var-attrs-in:checked ~ .xr-var-attrs,\n",
       ".xr-var-data-in:checked ~ .xr-var-data {\n",
       "  display: block;\n",
       "}\n",
       "\n",
       ".xr-var-data > table {\n",
       "  float: right;\n",
       "}\n",
       "\n",
       ".xr-var-name span,\n",
       ".xr-var-data,\n",
       ".xr-attrs {\n",
       "  padding-left: 25px !important;\n",
       "}\n",
       "\n",
       ".xr-attrs,\n",
       ".xr-var-attrs,\n",
       ".xr-var-data {\n",
       "  grid-column: 1 / -1;\n",
       "}\n",
       "\n",
       "dl.xr-attrs {\n",
       "  padding: 0;\n",
       "  margin: 0;\n",
       "  display: grid;\n",
       "  grid-template-columns: 125px auto;\n",
       "}\n",
       "\n",
       ".xr-attrs dt,\n",
       ".xr-attrs dd {\n",
       "  padding: 0;\n",
       "  margin: 0;\n",
       "  float: left;\n",
       "  padding-right: 10px;\n",
       "  width: auto;\n",
       "}\n",
       "\n",
       ".xr-attrs dt {\n",
       "  font-weight: normal;\n",
       "  grid-column: 1;\n",
       "}\n",
       "\n",
       ".xr-attrs dt:hover span {\n",
       "  display: inline-block;\n",
       "  background: var(--xr-background-color);\n",
       "  padding-right: 10px;\n",
       "}\n",
       "\n",
       ".xr-attrs dd {\n",
       "  grid-column: 2;\n",
       "  white-space: pre-wrap;\n",
       "  word-break: break-all;\n",
       "}\n",
       "\n",
       ".xr-icon-database,\n",
       ".xr-icon-file-text2 {\n",
       "  display: inline-block;\n",
       "  vertical-align: middle;\n",
       "  width: 1em;\n",
       "  height: 1.5em !important;\n",
       "  stroke-width: 0;\n",
       "  stroke: currentColor;\n",
       "  fill: currentColor;\n",
       "}\n",
       "</style><pre class='xr-text-repr-fallback'>&lt;xarray.Dataset&gt;\n",
       "Dimensions:    (sample: 18300, y: 78, x: 78)\n",
       "Coordinates:\n",
       "  * sample     (sample) int64 0 1 2 3 4 5 ... 18295 18296 18297 18298 18299\n",
       "    lat        (sample, y) float64 ...\n",
       "    lon        (sample, x) float64 ...\n",
       "    time       (sample) object &#x27;00:00:00&#x27; &#x27;00:00:00&#x27; ... &#x27;00:00:00&#x27; &#x27;00:00:00&#x27;\n",
       "Dimensions without coordinates: y, x\n",
       "Data variables:\n",
       "    model_108  (sample, y, x) float32 ...</pre><div class='xr-wrap' style='display:none'><div class='xr-header'><div class='xr-obj-type'>xarray.Dataset</div></div><ul class='xr-sections'><li class='xr-section-item'><input id='section-ffcd0f32-8eff-47ab-ad04-a63500fc2748' class='xr-section-summary-in' type='checkbox' disabled ><label for='section-ffcd0f32-8eff-47ab-ad04-a63500fc2748' class='xr-section-summary'  title='Expand/collapse section'>Dimensions:</label><div class='xr-section-inline-details'><ul class='xr-dim-list'><li><span class='xr-has-index'>sample</span>: 18300</li><li><span>y</span>: 78</li><li><span>x</span>: 78</li></ul></div><div class='xr-section-details'></div></li><li class='xr-section-item'><input id='section-d6b0ca53-2ba2-4af8-8cb8-8b6cff6bdafc' class='xr-section-summary-in' type='checkbox'  checked><label for='section-d6b0ca53-2ba2-4af8-8cb8-8b6cff6bdafc' class='xr-section-summary' >Coordinates: <span>(4)</span></label><div class='xr-section-inline-details'></div><div class='xr-section-details'><ul class='xr-var-list'><li class='xr-var-item'><div class='xr-var-name'><span class='xr-has-index'>sample</span></div><div class='xr-var-dims'>(sample)</div><div class='xr-var-dtype'>int64</div><div class='xr-var-preview xr-preview'>0 1 2 3 ... 18296 18297 18298 18299</div><input id='attrs-1368900e-20c1-4956-9c9d-2e1ab042c25f' class='xr-var-attrs-in' type='checkbox' disabled><label for='attrs-1368900e-20c1-4956-9c9d-2e1ab042c25f' title='Show/Hide attributes'><svg class='icon xr-icon-file-text2'><use xlink:href='#icon-file-text2'></use></svg></label><input id='data-5f1a27b7-cf3c-4f4f-be7e-4d57d7eda4ed' class='xr-var-data-in' type='checkbox'><label for='data-5f1a27b7-cf3c-4f4f-be7e-4d57d7eda4ed' title='Show/Hide data repr'><svg class='icon xr-icon-database'><use xlink:href='#icon-database'></use></svg></label><div class='xr-var-attrs'><dl class='xr-attrs'></dl></div><div class='xr-var-data'><pre>array([    0,     1,     2, ..., 18297, 18298, 18299])</pre></div></li><li class='xr-var-item'><div class='xr-var-name'><span>lat</span></div><div class='xr-var-dims'>(sample, y)</div><div class='xr-var-dtype'>float64</div><div class='xr-var-preview xr-preview'>...</div><input id='attrs-b43168fa-e448-4ba4-b6f5-41bc66c68143' class='xr-var-attrs-in' type='checkbox' disabled><label for='attrs-b43168fa-e448-4ba4-b6f5-41bc66c68143' title='Show/Hide attributes'><svg class='icon xr-icon-file-text2'><use xlink:href='#icon-file-text2'></use></svg></label><input id='data-6daa3d8a-8a7f-4c71-8456-58895ac0b0a2' class='xr-var-data-in' type='checkbox'><label for='data-6daa3d8a-8a7f-4c71-8456-58895ac0b0a2' title='Show/Hide data repr'><svg class='icon xr-icon-database'><use xlink:href='#icon-database'></use></svg></label><div class='xr-var-attrs'><dl class='xr-attrs'></dl></div><div class='xr-var-data'><pre>[1427400 values with dtype=float64]</pre></div></li><li class='xr-var-item'><div class='xr-var-name'><span>lon</span></div><div class='xr-var-dims'>(sample, x)</div><div class='xr-var-dtype'>float64</div><div class='xr-var-preview xr-preview'>...</div><input id='attrs-d3cc3275-9209-41c8-9194-0992552d58a9' class='xr-var-attrs-in' type='checkbox' disabled><label for='attrs-d3cc3275-9209-41c8-9194-0992552d58a9' title='Show/Hide attributes'><svg class='icon xr-icon-file-text2'><use xlink:href='#icon-file-text2'></use></svg></label><input id='data-98a43384-3b9f-4bf1-9c74-50cc76bff89b' class='xr-var-data-in' type='checkbox'><label for='data-98a43384-3b9f-4bf1-9c74-50cc76bff89b' title='Show/Hide data repr'><svg class='icon xr-icon-database'><use xlink:href='#icon-database'></use></svg></label><div class='xr-var-attrs'><dl class='xr-attrs'></dl></div><div class='xr-var-data'><pre>[1427400 values with dtype=float64]</pre></div></li><li class='xr-var-item'><div class='xr-var-name'><span>time</span></div><div class='xr-var-dims'>(sample)</div><div class='xr-var-dtype'>object</div><div class='xr-var-preview xr-preview'>...</div><input id='attrs-f35a9983-4b69-4c3d-aaef-7626bbdc64c6' class='xr-var-attrs-in' type='checkbox' disabled><label for='attrs-f35a9983-4b69-4c3d-aaef-7626bbdc64c6' title='Show/Hide attributes'><svg class='icon xr-icon-file-text2'><use xlink:href='#icon-file-text2'></use></svg></label><input id='data-d618e9a5-2572-4be4-8632-cb2e4f252f15' class='xr-var-data-in' type='checkbox'><label for='data-d618e9a5-2572-4be4-8632-cb2e4f252f15' title='Show/Hide data repr'><svg class='icon xr-icon-database'><use xlink:href='#icon-database'></use></svg></label><div class='xr-var-attrs'><dl class='xr-attrs'></dl></div><div class='xr-var-data'><pre>array([&#x27;00:00:00&#x27;, &#x27;00:00:00&#x27;, &#x27;00:00:00&#x27;, ..., &#x27;00:00:00&#x27;, &#x27;00:00:00&#x27;,\n",
       "       &#x27;00:00:00&#x27;], dtype=object)</pre></div></li></ul></div></li><li class='xr-section-item'><input id='section-d0d7c496-ad08-4f84-ac90-4af0c5c5c4fe' class='xr-section-summary-in' type='checkbox'  checked><label for='section-d0d7c496-ad08-4f84-ac90-4af0c5c5c4fe' class='xr-section-summary' >Data variables: <span>(1)</span></label><div class='xr-section-inline-details'></div><div class='xr-section-details'><ul class='xr-var-list'><li class='xr-var-item'><div class='xr-var-name'><span>model_108</span></div><div class='xr-var-dims'>(sample, y, x)</div><div class='xr-var-dtype'>float32</div><div class='xr-var-preview xr-preview'>...</div><input id='attrs-361fc154-b2d1-4acb-ab3b-072d4aa8114b' class='xr-var-attrs-in' type='checkbox' disabled><label for='attrs-361fc154-b2d1-4acb-ab3b-072d4aa8114b' title='Show/Hide attributes'><svg class='icon xr-icon-file-text2'><use xlink:href='#icon-file-text2'></use></svg></label><input id='data-126e95a8-d4ae-4247-994a-3c72758f20a4' class='xr-var-data-in' type='checkbox'><label for='data-126e95a8-d4ae-4247-994a-3c72758f20a4' title='Show/Hide data repr'><svg class='icon xr-icon-database'><use xlink:href='#icon-database'></use></svg></label><div class='xr-var-attrs'><dl class='xr-attrs'></dl></div><div class='xr-var-data'><pre>[111337200 values with dtype=float32]</pre></div></li></ul></div></li><li class='xr-section-item'><input id='section-264bafa2-8880-4821-bf31-32dc6e4a98c0' class='xr-section-summary-in' type='checkbox' disabled ><label for='section-264bafa2-8880-4821-bf31-32dc6e4a98c0' class='xr-section-summary'  title='Expand/collapse section'>Attributes: <span>(0)</span></label><div class='xr-section-inline-details'></div><div class='xr-section-details'><dl class='xr-attrs'></dl></div></li></ul></div></div>"
      ],
      "text/plain": [
       "<xarray.Dataset>\n",
       "Dimensions:    (sample: 18300, y: 78, x: 78)\n",
       "Coordinates:\n",
       "  * sample     (sample) int64 0 1 2 3 4 5 ... 18295 18296 18297 18298 18299\n",
       "    lat        (sample, y) float64 ...\n",
       "    lon        (sample, x) float64 ...\n",
       "    time       (sample) object ...\n",
       "Dimensions without coordinates: y, x\n",
       "Data variables:\n",
       "    model_108  (sample, y, x) float32 ..."
      ]
     },
     "execution_count": 110,
     "metadata": {},
     "output_type": "execute_result"
    }
   ],
   "source": [
    "data = xr.open_dataset('/p/project1/exaww/chatterjee1/dataset/msgobs_108_randcrops_icon.nc')\n",
    "data"
   ]
  },
  {
   "cell_type": "code",
   "execution_count": 111,
   "id": "cbdf7450-6030-475b-b6bd-64c8884246db",
   "metadata": {
    "tags": []
   },
   "outputs": [
    {
     "data": {
      "text/plain": [
       "(18300, 78, 78)"
      ]
     },
     "execution_count": 111,
     "metadata": {},
     "output_type": "execute_result"
    }
   ],
   "source": [
    "data.model_108.shape"
   ]
  },
  {
   "cell_type": "markdown",
   "id": "a08ddb7c-64b3-4c6f-b9f6-6b068325066c",
   "metadata": {},
   "source": [
    "## mean and std of different data chunks"
   ]
  },
  {
   "cell_type": "code",
   "execution_count": 112,
   "id": "9616633c-6d5b-47fd-a61c-db4c622be57f",
   "metadata": {
    "tags": []
   },
   "outputs": [
    {
     "data": {
      "text/plain": [
       "(<xarray.DataArray 'model_108' ()>\n",
       " array(266.87361996),\n",
       " <xarray.DataArray 'model_108' ()>\n",
       " array(20.80882374))"
      ]
     },
     "execution_count": 112,
     "metadata": {},
     "output_type": "execute_result"
    }
   ],
   "source": [
    "# Function to calculate mean and standard deviation using chunks\n",
    "def compute_mean_std_chunked(data, chunk_size=1000):\n",
    "    n_samples, height, width = data.shape\n",
    "    n_elements = n_samples * height * width\n",
    "\n",
    "    # Initialize mean and variance sums\n",
    "    total_sum = 0.0\n",
    "    total_square_sum = 0.0\n",
    "\n",
    "    # Process in chunks\n",
    "    for i in range(0, n_samples, chunk_size):\n",
    "        chunk = data[i:i+chunk_size]\n",
    "\n",
    "        # Update sums\n",
    "        total_sum += np.sum(chunk)\n",
    "        total_square_sum += np.sum(chunk ** 2)\n",
    "\n",
    "    # Calculate mean and variance\n",
    "    mean = total_sum / n_elements\n",
    "    variance = (total_square_sum / n_elements) - (mean ** 2)\n",
    "    std = np.sqrt(variance)\n",
    "\n",
    "    return mean, std\n",
    "\n",
    "# Simulate smaller sample_data for demonstration purposes\n",
    "small_sample_data = ds.model_108\n",
    "\n",
    "# Calculate the mean and standard deviation using chunks\n",
    "mean_sample_data_chunked, std_sample_data_chunked = compute_mean_std_chunked(small_sample_data)\n",
    "\n",
    "mean_sample_data_chunked, std_sample_data_chunked\n"
   ]
  },
  {
   "cell_type": "markdown",
   "id": "a4033180-7820-4a96-afc8-9e96b658a5f2",
   "metadata": {},
   "source": [
    "## NetCDF to HdF5"
   ]
  },
  {
   "cell_type": "code",
   "execution_count": 113,
   "id": "505662fb-0dea-4c67-a0ad-0e14ef780c38",
   "metadata": {
    "tags": []
   },
   "outputs": [
    {
     "name": "stdout",
     "output_type": "stream",
     "text": [
      "Converted /p/project1/exaww/chatterjee1/dataset/msgobs_108_randcrops_icon.nc to /p/project1/exaww/chatterjee1/warmworld_scripts/msgobs_108_randcrops_icon.h5\n"
     ]
    }
   ],
   "source": [
    "def convert_nc_to_hdf5(nc_file, hdf5_file):\n",
    "    # Open the NetCDF file using xarray\n",
    "    ds = xr.open_dataset(nc_file)\n",
    "\n",
    "    # Create the HDF5 file\n",
    "    with h5py.File(hdf5_file, 'w') as hdf5_data:\n",
    "        # Iterate over all variables in the xarray dataset\n",
    "        for var_name in ds.data_vars:\n",
    "            var_data = ds[var_name].values\n",
    "            \n",
    "            # Create a dataset in the HDF5 file\n",
    "            hdf5_dataset = hdf5_data.create_dataset(\n",
    "                var_name, \n",
    "                data=var_data, \n",
    "                dtype=var_data.dtype, \n",
    "                #chunks=chunking,  # Enable chunking if requested\n",
    "                #compression=compression  # Apply compression if provided\n",
    "            )\n",
    "\n",
    "            # Copy variable attributes of the variable to the HDF5 dataset\n",
    "            for attr_name, attr_value in ds[var_name].attrs.items():\n",
    "                hdf5_dataset.attrs[attr_name] = attr_value\n",
    "        \n",
    "        # Iterate over all coordinates in the xarray dataset\n",
    "        for coord_name in ds.coords:\n",
    "            coord_data = ds[coord_name].values\n",
    "            \n",
    "            # Handle special case for time coordinate with dtype('O')\n",
    "            if coord_data.dtype == 'O':\n",
    "                # Convert to fixed-length strings\n",
    "                coord_data = coord_data.astype('S')\n",
    "            \n",
    "            # Create a dataset in the HDF5 file for the coordinate\n",
    "            hdf5_coord = hdf5_data.create_dataset(\n",
    "                coord_name, \n",
    "                data=coord_data, \n",
    "                dtype=coord_data.dtype, \n",
    "                #chunks=chunking,  # Enable chunking if requested\n",
    "                #compression=compression  # Apply compression if provided\n",
    "            )\n",
    "            \n",
    "            # Copy coordinate attributes to the HDF5 dataset\n",
    "            for attr_name, attr_value in ds[coord_name].attrs.items():\n",
    "                hdf5_coord.attrs[attr_name] = attr_value\n",
    "        \n",
    "        # Copy global attributes\n",
    "        for attr_name, attr_value in ds.attrs.items():\n",
    "            hdf5_data.attrs[attr_name] = attr_value\n",
    "    # Close the xarray dataset\n",
    "    ds.close()\n",
    "\n",
    "\n",
    "nc_file = '/p/project1/exaww/chatterjee1/dataset/msgobs_108_randcrops_icon.nc'\n",
    "hdf5_file = '/p/project1/exaww/chatterjee1/warmworld_scripts/msgobs_108_randcrops_icon.h5'\n",
    "convert_nc_to_hdf5(\n",
    "    nc_file, \n",
    "    hdf5_file, \n",
    "    #chunking=False, \n",
    "    #compression=None\n",
    ")\n",
    "print(f\"Converted {nc_file} to {hdf5_file}\")"
   ]
  },
  {
   "cell_type": "code",
   "execution_count": null,
   "id": "628e222e-6a43-4aa4-84d6-bf159ab01f62",
   "metadata": {},
   "outputs": [],
   "source": []
  },
  {
   "cell_type": "code",
   "execution_count": null,
   "id": "ca9665eb-31c8-4be9-a372-66df67040ea6",
   "metadata": {},
   "outputs": [],
   "source": []
  },
  {
   "cell_type": "code",
   "execution_count": null,
   "id": "b898707b-bdfe-4c55-9419-94af707af841",
   "metadata": {},
   "outputs": [],
   "source": []
  },
  {
   "cell_type": "code",
   "execution_count": null,
   "id": "8c8f2150-083a-4329-a2bf-d9d8cf1d82d7",
   "metadata": {},
   "outputs": [],
   "source": []
  },
  {
   "cell_type": "code",
   "execution_count": 57,
   "id": "3341af89-d2ac-4f74-8d95-2e58b9775141",
   "metadata": {
    "tags": []
   },
   "outputs": [],
   "source": [
    "date = data.time.dt.strftime('%Y-%m-%d').values\n",
    "timestamp = data.time.dt.strftime('%H:%M:%S').values"
   ]
  },
  {
   "cell_type": "code",
   "execution_count": 100,
   "id": "dea1a374-8cce-4b8d-b019-c61cbf15340b",
   "metadata": {
    "tags": []
   },
   "outputs": [
    {
     "data": {
      "text/plain": [
       "('2023-09-30', '01:00:00')"
      ]
     },
     "execution_count": 100,
     "metadata": {},
     "output_type": "execute_result"
    }
   ],
   "source": [
    "date, timestamp"
   ]
  },
  {
   "cell_type": "code",
   "execution_count": 32,
   "id": "d29c1fce-559b-44d7-865f-d80936b362d4",
   "metadata": {
    "tags": []
   },
   "outputs": [
    {
     "data": {
      "text/plain": [
       "((1377,), (657,))"
      ]
     },
     "execution_count": 32,
     "metadata": {},
     "output_type": "execute_result"
    }
   ],
   "source": [
    "data.lon.shape, data.lat.shape"
   ]
  },
  {
   "cell_type": "code",
   "execution_count": 14,
   "id": "19256c21-7935-44be-bf2d-d472cd190980",
   "metadata": {
    "tags": []
   },
   "outputs": [
    {
     "data": {
      "text/plain": [
       "(472, 816)"
      ]
     },
     "execution_count": 14,
     "metadata": {},
     "output_type": "execute_result"
    }
   ],
   "source": [
    "idx_lon_max = np.argmin(np.abs(data.lon.values - 27.5))\n",
    "idx_lon_min = np.argmin(np.abs(data.lon.values - 6))\n",
    "idx_lon_min,idx_lon_max"
   ]
  },
  {
   "cell_type": "code",
   "execution_count": 34,
   "id": "e247288f-c645-4386-bd0e-411a05dae098",
   "metadata": {
    "tags": []
   },
   "outputs": [
    {
     "data": {
      "text/plain": [
       "(288, 376)"
      ]
     },
     "execution_count": 34,
     "metadata": {},
     "output_type": "execute_result"
    }
   ],
   "source": [
    "idx_lat_max = np.argmin(np.abs(data.lat.values - 53))\n",
    "idx_lat_min = np.argmin(np.abs(data.lat.values - 47.5))\n",
    "idx_lat_min,idx_lat_max"
   ]
  },
  {
   "cell_type": "code",
   "execution_count": 38,
   "id": "ae3bba67-2513-4b73-a473-1b87b32fa5e6",
   "metadata": {
    "tags": []
   },
   "outputs": [
    {
     "data": {
      "text/plain": [
       "(<xarray.DataArray 'lat' ()>\n",
       " array(70.5),\n",
       " <xarray.DataArray 'lat' ()>\n",
       " array(29.5))"
      ]
     },
     "execution_count": 38,
     "metadata": {},
     "output_type": "execute_result"
    }
   ],
   "source": [
    "data.lat.max(), data.lat.min()"
   ]
  },
  {
   "cell_type": "code",
   "execution_count": 48,
   "id": "c9265d4c-cdc3-4f23-9084-cce1e1fd96ce",
   "metadata": {
    "tags": []
   },
   "outputs": [
    {
     "data": {
      "text/plain": [
       "(657, 1377)"
      ]
     },
     "execution_count": 48,
     "metadata": {},
     "output_type": "execute_result"
    }
   ],
   "source": [
    "data['SYNMSG_BT_CL_IR10.8'][0,:,:].shape"
   ]
  },
  {
   "cell_type": "markdown",
   "id": "7d1c5a97-e7aa-411d-87fd-22684030802a",
   "metadata": {},
   "source": [
    "## Region specific map plots"
   ]
  },
  {
   "cell_type": "code",
   "execution_count": 89,
   "id": "59bc3159-a70f-4914-a3f9-8a70e07861a5",
   "metadata": {},
   "outputs": [],
   "source": [
    "for file in nc_files: \n",
    "    data = xr.open_dataset(file)\n",
    "    date = data.time.dt.strftime('%Y-%m-%d').values\n",
    "    timestamp = data.time.dt.strftime('%H:%M:%S').values\n",
    "\n",
    "    long = data['lon'][472:816]\n",
    "    lat = data['lat'][288:377]\n",
    "\n",
    "    # Extract the first layer of 'bt'\n",
    "    bt_data = data['SYNMSG_BT_CL_IR10.8'][0,288:377,472:816]  # shape: (89 X 344 pixels)\n",
    "\n",
    "    # Create a meshgrid for lat and long\n",
    "    lon_grid, lat_grid = np.meshgrid(long, lat)\n",
    "\n",
    "    # Create the plot\n",
    "    plt.figure(figsize=(3.44, 0.89))\n",
    "\n",
    "    # Set up the plot with PlateCarree projection\n",
    "    ax = plt.axes(projection=ccrs.PlateCarree())\n",
    "    ax.coastlines()\n",
    "    ax.add_feature(cfeature.BORDERS, linestyle='-', alpha=0.7)\n",
    "\n",
    "    # Plot the data\n",
    "    plt.pcolormesh(lon_grid, lat_grid, bt_data, cmap='viridis', shading='nearest', transform=ccrs.PlateCarree(), vmin=220, vmax=300)\n",
    "\n",
    "    # Add a colorbar\n",
    "    #plt.colorbar(label='Synth. Sat. brightness temperature cloudy')\n",
    "\n",
    "    # Set labels and title\n",
    "    #plt.title('ICON-EU: '+ date[0][5:]+'-'+timestamp[0][0:2]+ '_89 X 344 pixels')\n",
    "    plt.xlabel('Longitude')\n",
    "    plt.ylabel('Latitude')\n",
    "\n",
    "    # Save the plot to a specific location\n",
    "    save_path = '/p/project1/exaww/chatterjee1/plots/vis_model_data/'\n",
    "    plt.savefig(save_path + date[0][8:] + '-' + date[0][5:7] + ':' + timestamp[0][0:2] + '.png', dpi=100, bbox_inches='tight',pad_inches=0)  # dpi=300 for high resolution, bbox_inches='tight' to trim whitespace\n",
    "    plt.close()\n",
    "\n"
   ]
  },
  {
   "cell_type": "markdown",
   "id": "3efe6534-fe63-4bb5-8497-a7c4014e8091",
   "metadata": {},
   "source": [
    "# Performing fft of 2D spatial fields"
   ]
  },
  {
   "cell_type": "code",
   "execution_count": 82,
   "id": "bf4d9580-ac27-4439-8a0f-7c48b032935a",
   "metadata": {
    "tags": []
   },
   "outputs": [],
   "source": [
    "for file in nc_files: \n",
    "    data = xr.open_dataset(file)\n",
    "    date = data.time.dt.strftime('%Y-%m-%d').values\n",
    "    timestamp = data.time.dt.strftime('%H:%M:%S').values\n",
    "\n",
    "    long = data['lon'][472:816]\n",
    "    lat = data['lat'][288:377]\n",
    "\n",
    "    # Extract the first layer of 'bt'\n",
    "    bt_data = data['SYNMSG_BT_CL_IR10.8'][0,288:377,472:816]  # shape: (89 X 344 pixels)\n",
    "\n",
    "    if np.isnan(bt_data).any():\n",
    "          pass# Fill NaNs with zeros or any other method if necessary\n",
    "    else:\n",
    "        # Step 2: Perform 2D FFT\n",
    "        fft_result = np.fft.fft2(bt_data)\n",
    "\n",
    "        # Step 3: Shift zero frequency component to the center\n",
    "        fft_shifted = np.fft.fftshift(fft_result)\n",
    "\n",
    "        # Step 4: Calculate the magnitude (absolute value) of the FFT\n",
    "        magnitude_spectrum = np.abs(fft_shifted)\n",
    "\n",
    "        # Optionally, use a logarithmic scale for better visualization\n",
    "        log_magnitude_spectrum = np.log1p(magnitude_spectrum)  # log1p for log(1 + x) to avoid log(0) issues\n",
    "\n",
    "        # Plot the magnitude spectrum\n",
    "        plt.figure(figsize=(6, 6))\n",
    "        im = plt.imshow(log_magnitude_spectrum, cmap='viridis')\n",
    "        plt.colorbar(im, label='Log Magnitude Spectrum',fraction=0.016, pad=0.04)\n",
    "        plt.title('2D FFT ICON ' + date[0][8:] + '-' + date[0][5:7] + ':' + timestamp[0][0:2])\n",
    "        plt.xlabel('Frequency X')\n",
    "        plt.ylabel('Frequency Y')\n",
    "        save_path = '/p/project1/exaww/chatterjee1/plots/vis_model_data/fft/'\n",
    "        plt.savefig(save_path + date[0][8:] + '-' + date[0][5:7] + ':' + timestamp[0][0:2] + '_fft.png', dpi=100, bbox_inches='tight',pad_inches=0)  # dpi=300 for high resolution, bbox_inches='tight' to trim whitespace\n",
    "        plt.close()"
   ]
  },
  {
   "cell_type": "markdown",
   "id": "002d33be-557e-420d-bc72-6831c573dfbb",
   "metadata": {},
   "source": [
    "# 1D FFT"
   ]
  },
  {
   "cell_type": "code",
   "execution_count": 86,
   "id": "4b25f8c7-1d0e-4638-825b-3eb112d9d332",
   "metadata": {
    "tags": []
   },
   "outputs": [],
   "source": [
    "def radial_profile(data):\n",
    "    \"\"\"Calculate the radial profile of a 2D FFT array.\"\"\"\n",
    "    # Get the center of the data\n",
    "    center_y, center_x = np.array(data.shape) // 2\n",
    "    \n",
    "    # Create a meshgrid of distances from the center\n",
    "    y, x = np.indices(data.shape)\n",
    "    r = np.sqrt((x - center_x)**2 + (y - center_y)**2)\n",
    "    r = r.astype(np.int)\n",
    "    \n",
    "    # Calculate the mean value at each radial distance\n",
    "    tbin = np.bincount(r.ravel(), data.ravel())\n",
    "    nr = np.bincount(r.ravel())\n",
    "    radial_profile = tbin / nr\n",
    "    return radial_profile\n",
    "\n",
    "# List to store each radial profile\n",
    "radial_profiles = []\n",
    "\n",
    "for file in nc_files: \n",
    "    data = xr.open_dataset(file)\n",
    "    date = data.time.dt.strftime('%Y-%m-%d').values\n",
    "    timestamp = data.time.dt.strftime('%H:%M:%S').values\n",
    "\n",
    "    long = data['lon'][472:816]\n",
    "    lat = data['lat'][288:377]\n",
    "\n",
    "    # Extract the first layer of 'bt'\n",
    "    bt_data = data['SYNMSG_BT_CL_IR10.8'][0,288:377,472:816]  # shape: (89 X 344 pixels)\n",
    "    \n",
    "    if not np.isnan(bt_data).any():\n",
    "            # Step 2: Perform 2D FFT\n",
    "        fft_result = np.fft.fft2(bt_data)\n",
    "\n",
    "        # Step 3: Shift zero frequency component to the center\n",
    "        fft_shifted = np.fft.fftshift(fft_result)\n",
    "\n",
    "        # Step 4: Calculate the magnitude (absolute value) of the FFT\n",
    "        magnitude_spectrum = np.abs(fft_shifted)\n",
    "\n",
    "        # Step 5: Calculate the log of the magnitude spectrum\n",
    "        log_magnitude_spectrum = np.log1p(magnitude_spectrum)  # log(1 + x) to avoid log(0) issues\n",
    "\n",
    "        # Calculate the radial profile\n",
    "        radial_profile_1d = radial_profile(log_magnitude_spectrum)\n",
    "\n",
    "        # Store the radial profile with the timestamp for plotting\n",
    "        radial_profiles.append((timestamp, radial_profile_1d))\n",
    "\n",
    "    # Plot all radial profiles in a single plot\n",
    "    plt.figure(figsize=(10, 6))\n",
    "    for timestamp, radial_profile_1d in radial_profiles:\n",
    "        plt.plot(radial_profile_1d, label=f'model {date[0][8:]}-{date[0][5:7]}:{timestamp[0][0:2]}')\n",
    "\n",
    "    plt.xlabel('Radial Frequency')\n",
    "    plt.ylabel('Log Magnitude')\n",
    "    plt.title('ICON: FFT for Each BT Distribution')\n",
    "    plt.legend()\n",
    "    save_path = '/p/project1/exaww/chatterjee1/plots/vis_model_data/fft/'\n",
    "    plt.savefig(save_path + date[0][8:] + '-' + date[0][5:7] + '_fft.png', dpi=100, bbox_inches='tight', pad_inches=0)\n",
    "    plt.close()"
   ]
  },
  {
   "cell_type": "code",
   "execution_count": 91,
   "id": "8fec87b4-d9a0-434c-951e-0fbd449fed1a",
   "metadata": {
    "tags": []
   },
   "outputs": [
    {
     "data": {
      "text/plain": [
       "25"
      ]
     },
     "execution_count": 91,
     "metadata": {},
     "output_type": "execute_result"
    }
   ],
   "source": [
    "len(radial_profiles)"
   ]
  },
  {
   "cell_type": "code",
   "execution_count": 92,
   "id": "c364c835-e1da-4461-a10b-e33a0b83472b",
   "metadata": {
    "tags": []
   },
   "outputs": [
    {
     "data": {
      "text/plain": [
       "list"
      ]
     },
     "execution_count": 92,
     "metadata": {},
     "output_type": "execute_result"
    }
   ],
   "source": [
    "type(radial_profiles)"
   ]
  },
  {
   "cell_type": "code",
   "execution_count": 93,
   "id": "d5ca522b-7646-4459-9761-0aa66f19fd94",
   "metadata": {
    "tags": []
   },
   "outputs": [],
   "source": [
    "np.save('/p/project1/exaww/chatterjee1/plots/vis_model_data/fft/radprof_icon.npy', radial_profiles)"
   ]
  },
  {
   "cell_type": "code",
   "execution_count": 74,
   "id": "ee8e061c-f8b9-4f7c-a530-05a89d8265eb",
   "metadata": {
    "tags": []
   },
   "outputs": [
    {
     "data": {
      "text/plain": [
       "'00'"
      ]
     },
     "execution_count": 74,
     "metadata": {},
     "output_type": "execute_result"
    }
   ],
   "source": [
    "timestamp[0][0:2]"
   ]
  },
  {
   "cell_type": "markdown",
   "id": "acdeeb6e-359f-48a4-bc09-fe9bd62d9e37",
   "metadata": {},
   "source": [
    "## All data map plot"
   ]
  },
  {
   "cell_type": "code",
   "execution_count": null,
   "id": "81ee5a9d-fb8d-4b3e-af2e-e6342c462b0e",
   "metadata": {},
   "outputs": [],
   "source": [
    "pixel_size = [657, 1377]\n",
    "fig,ax = plt.subplots(figsize=pixel_size, dpi=1)\n",
    "fig.subplots_adjust(left=0, right=1, bottom=0, top=1)\n",
    "a = ax.imshow(data['SYNMSG_BT_CL_IR10.8'][0,:,:], cmap='Spectral_r')\n",
    "ax.axis(False)\n",
    "plt.savefig(f\"/p/project1/exaww/chatterjee1/plots/vis_model_data/10_8.png\",  bbox_inches=\"tight\")\n",
    "\n",
    "pixel_size = [657, 1377]\n",
    "fig,ax = plt.subplots(figsize=pixel_size, dpi=1)\n",
    "fig.subplots_adjust(left=0, right=1, bottom=0, top=1)\n",
    "a = ax.imshow(data['SYNMSG_BT_CL_WV6.2'][0,:,:], cmap='Spectral_r')\n",
    "ax.axis(False)\n",
    "plt.savefig(f\"/p/project1/exaww/chatterjee1/plots/vis_model_data/6_2.png\",  bbox_inches=\"tight\")"
   ]
  },
  {
   "cell_type": "code",
   "execution_count": null,
   "id": "a0b31e3e-b62e-4773-8be4-c4a2439df6fa",
   "metadata": {},
   "outputs": [],
   "source": []
  },
  {
   "cell_type": "code",
   "execution_count": null,
   "id": "08119edc-0dcc-40fb-9731-ec399609a9a8",
   "metadata": {},
   "outputs": [],
   "source": [
    "sample_counter = 0  # Initialize a counter for unique sample naming\n",
    "\n",
    "all_crops = []  # List to store all crops\n",
    "all_lats = []   # List to store all latitude coordinates\n",
    "all_lons = []   # List to store all longitude coordinates\n",
    "all_times = []  # List to store all timestamps\n",
    "\n",
    "target_lat = 50.9224 #cabauw = 51.9653 #Sirta = 48.717 # zargosa = 41.6474 #madrid = 40.4167 # Bourges = 47.0812 # Vienna = 48.2081 # warsaw = 52.229 # lindenberg = 52.210 #juelich = 50.9224\n",
    "target_lon = 6.3639 #cabauw = 4.8979 #Sirta = 2.208 # Zargosa = -0.8861 # Madrid = -3.7033 # Bourges = 2.3980 # Vienna = 16.3713 # warsaw = 21.012 # lindenberg = 14.122 #Juelich = 6.3639\n",
    "crop_size = 78\n",
    "half_crop = crop_size // 2\n",
    "\n",
    "first_write = True  # Flag to check if it's the first time writing to the file\n",
    "\n",
    "# Iterate over each month\n",
    "for _, key in enumerate(months.keys()):\n",
    "    month_loc = nc_file_loc + months[key]\n",
    "    day_folders = sorted(glob.glob(month_loc + '*/'))  # Finds all day subfolders within the month folder\n",
    "\n",
    "    # Iterate over each day folder within the current month\n",
    "    for day_folder in day_folders:\n",
    "        nc_filepattern = \"iefrf*.nc\"\n",
    "        nc_files = sorted(glob.glob(day_folder + nc_filepattern)) # '/p/project1/exaww/chatterjee1/dataset/iconeu/09/01/'\n",
    "\n",
    "        for i, file in enumerate(nc_files):\n",
    "\n",
    "            # Log the name of the current file\n",
    "            with open(log_file, 'a') as log:\n",
    "                log.write(f\"{file}\\n\")\n",
    "\n",
    "            data = xr.open_dataset(file)\n",
    "            date = data.time.dt.strftime('%Y-%m-%d').values[0]\n",
    "            timestamp = data.time.dt.strftime('%H:%M:%S').values[0]\n",
    "            \n",
    "\n",
    "            lat = data['lat'].values  # shape: (H,)\n",
    "            lon = data['lon'].values  # shape: (W,)            \n",
    "            bt_data = data['SYNMSG_BT_CL_IR10.8'][0, :, :].values  # shape: (H, W)\n",
    "\n",
    "            # Find closest lat/lon indices\n",
    "            lat_idx = np.abs(lat - target_lat).argmin()\n",
    "            lon_idx = np.abs(lon - target_lon).argmin()\n",
    "            \n",
    "            # Define crop boundaries (clamp to array bounds)\n",
    "            start_y = max(0, lat_idx - half_crop)\n",
    "            end_y = start_y + crop_size\n",
    "            start_x = max(0, lon_idx - half_crop)\n",
    "            end_x = start_x + crop_size\n",
    "            \n",
    "            # Skip if crop goes beyond data bounds\n",
    "            if end_y > bt_data.shape[0] or end_x > bt_data.shape[1]:\n",
    "                continue\n",
    "            \n",
    "            # Crop the data\n",
    "            crop = bt_data[start_y:end_y, start_x:end_x]\n",
    "\n",
    "            # Skip if NaNs are present\n",
    "            if np.isnan(crop).any():\n",
    "                continue\n",
    "\n",
    "            all_crops.append(crop)\n",
    "            all_lats.append(lat[start_y:end_y])\n",
    "            all_lons.append(lon[start_x:end_x])\n",
    "            #all_times.append(timestamp)\n",
    "            all_times.append(data.time.values[0])\n",
    "    \n",
    "            # Increment the sample counter\n",
    "            sample_counter += 1\n",
    "    \n",
    "all_crops_np = np.array(all_crops)\n",
    "all_lats_np = np.array(all_lats)\n",
    "all_lons_np = np.array(all_lons)\n",
    "all_times_np = np.array(all_times)\n",
    "\n",
    "\n",
    "\n"
   ]
  },
  {
   "cell_type": "code",
   "execution_count": null,
   "id": "d1b17cc3-1a5e-4936-9730-6b4dc8631775",
   "metadata": {},
   "outputs": [],
   "source": []
  }
 ],
 "metadata": {
  "kernelspec": {
   "display_name": "PyEarthSystem-2025.1",
   "language": "python",
   "name": "pyearthsystem"
  },
  "language_info": {
   "codemirror_mode": {
    "name": "ipython",
    "version": 3
   },
   "file_extension": ".py",
   "mimetype": "text/x-python",
   "name": "python",
   "nbconvert_exporter": "python",
   "pygments_lexer": "ipython3",
   "version": "3.12.3"
  }
 },
 "nbformat": 4,
 "nbformat_minor": 5
}
